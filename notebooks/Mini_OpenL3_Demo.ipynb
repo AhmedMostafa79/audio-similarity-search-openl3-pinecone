{
 "cells": [
  {
   "cell_type": "markdown",
   "id": "ea092db6",
   "metadata": {},
   "source": [
    "# Mini OpenL3 + Pinecone Demo\n",
    "Sanitized demo notebook. Full pipeline (large dataset, extended evaluation) is private."
   ]
  },
  {
   "cell_type": "code",
   "execution_count": null,
   "id": "8a83db1b",
   "metadata": {},
   "outputs": [],
   "source": [
    "import os, numpy as np, pandas as pd\n",
    "import openl3, librosa\n",
    "from dotenv import load_dotenv\n",
    "from src.preprocess import Preprocess\n",
    "from src.pinecone_client import PineConeVDB\n",
    "from src.vector_utils import create_vectors\n",
    "from src.viz import tsne_plot, similarity_heatmap\n",
    "load_dotenv()\n",
    "API_KEY = os.getenv('PINECONE_API_KEY') or 'REPLACE_ME'\n",
    "assert API_KEY != 'REPLACE_ME', 'Set PINECONE_API_KEY in .env'"
   ]
  },
  {
   "cell_type": "markdown",
   "id": "d33b7c9f",
   "metadata": {},
   "source": [
    "## 1. Prepare sample audio & preprocessing"
   ]
  },
  {
   "cell_type": "code",
   "execution_count": null,
   "id": "bdedf297",
   "metadata": {},
   "outputs": [],
   "source": [
    "sample_dir = 'data/sample_audio'\n",
    "pre = Preprocess(sample_dir)\n",
    "sample_files = [f for f in os.listdir(sample_dir) if f.lower().endswith('.wav')]\n",
    "print('Found files:', sample_files)"
   ]
  },
  {
   "cell_type": "markdown",
   "id": "d479c648",
   "metadata": {},
   "source": [
    "## 2. Extract embeddings (OpenL3)"
   ]
  },
  {
   "cell_type": "code",
   "execution_count": null,
   "id": "5d690316",
   "metadata": {},
   "outputs": [],
   "source": [
    "rows = []\n",
    "for f in sample_files:\n",
    "    path = os.path.join(sample_dir, f)\n",
    "    y, sr = pre.preprocess_audio_file(path)\n",
    "    if y is None: continue\n",
    "    emb, ts = openl3.get_audio_embedding(y, sr, input_repr='mel256', content_type='music', embedding_size=512)\n",
    "    vec = emb.mean(axis=0)\n",
    "    rows.append({'name': f.split('_')[0], 'surah_number': 0, 'ayah_number': 0, 'features': vec})\n",
    "df = pd.DataFrame(rows)\n",
    "df.head()"
   ]
  },
  {
   "cell_type": "markdown",
   "id": "32146b73",
   "metadata": {},
   "source": [
    "## 3. Create vectors and upsert to Pinecone"
   ]
  },
  {
   "cell_type": "code",
   "execution_count": null,
   "id": "13191c6e",
   "metadata": {},
   "outputs": [],
   "source": [
    "from src.vector_utils import create_vectors\n",
    "from src.pinecone_client import PineConeVDB\n",
    "pc_vdb = PineConeVDB(api_key=API_KEY, index_name='demo-openl3', dimensions=512)\n",
    "vectors = create_vectors(df[['features']], df[['name','surah_number','ayah_number']])\n",
    "pc_vdb.upsert_vectors(vectors)\n",
    "print('Upserted', len(vectors), 'vectors')"
   ]
  },
  {
   "cell_type": "markdown",
   "id": "e61a34c7",
   "metadata": {},
   "source": [
    "## 4. Simple query"
   ]
  },
  {
   "cell_type": "code",
   "execution_count": null,
   "id": "e68426d2",
   "metadata": {},
   "outputs": [],
   "source": [
    "test_vec = df.iloc[0]['features']\n",
    "res = pc_vdb.search(test_vec.tolist(), top_k=3)\n",
    "res"
   ]
  },
  {
   "cell_type": "markdown",
   "id": "64448858",
   "metadata": {},
   "source": [
    "## 5. Visualization (t-SNE & similarity matrix)"
   ]
  },
  {
   "cell_type": "code",
   "execution_count": null,
   "id": "86aa08c5",
   "metadata": {},
   "outputs": [],
   "source": [
    "if len(df) > 2:\n",
    "    tsne_plot(df)\n",
    "    similarity_heatmap(df)"
   ]
  },
  {
   "cell_type": "markdown",
   "id": "70d55b2b",
   "metadata": {},
   "source": [
    "## 6. Notes\n",
    "- Real dataset + evaluation withheld.\n",
    "- Replace sample audio with your own small clips to explore.\n",
    "- For full pipeline access contact the maintainer."
   ]
  }
 ],
 "metadata": {
  "language_info": {
   "name": "python"
  }
 },
 "nbformat": 4,
 "nbformat_minor": 5
}
